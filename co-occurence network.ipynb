{
 "cells": [
  {
   "cell_type": "code",
   "execution_count": null,
   "metadata": {},
   "outputs": [],
   "source": [
    "import datetime"
   ]
  },
  {
   "cell_type": "markdown",
   "metadata": {},
   "source": [
    "**Prerequisites**"
   ]
  },
  {
   "cell_type": "code",
   "execution_count": null,
   "metadata": {
    "scrolled": true
   },
   "outputs": [],
   "source": [
    "!pip3 install dimcli plotly networkx pyvis jsonpickle  -U --quiet"
   ]
  },
  {
   "cell_type": "code",
   "execution_count": null,
   "metadata": {},
   "outputs": [],
   "source": [
    "!pip3 install dimcli"
   ]
  },
  {
   "cell_type": "code",
   "execution_count": null,
   "metadata": {},
   "outputs": [],
   "source": [
    "import dimcli\n",
    "from dimcli.utils import *\n",
    "from dimcli.utils.networkviz import NetworkViz # custom version of pyvis - colab-compatible\n",
    "\n",
    "import json\n",
    "import sys\n",
    "import pandas as pd\n",
    "import networkx as nx\n",
    "import plotly.express as px\n",
    "import itertools"
   ]
  },
  {
   "cell_type": "code",
   "execution_count": null,
   "metadata": {},
   "outputs": [],
   "source": [
    "print(\"==\\nLogging in..\")\n",
    "# https://digital-science.github.io/dimcli/getting-started.html#authentication\n",
    "ENDPOINT = \"https://app.dimensions.ai\"\n",
    "if 'google.colab' in sys.modules:\n",
    "  import getpass\n",
    "  KEY = getpass.getpass(prompt='API Key: ')\n",
    "  dimcli.login(key=KEY, endpoint=ENDPOINT)\n",
    "else:\n",
    "  KEY = \"\"\n",
    "  dimcli.login(key=KEY, endpoint=ENDPOINT)\n",
    "dsl = dimcli.Dsl()"
   ]
  },
  {
   "cell_type": "code",
   "execution_count": null,
   "metadata": {},
   "outputs": [],
   "source": [
    "dsl = dimcli.Dsl()"
   ]
  },
  {
   "cell_type": "code",
   "execution_count": null,
   "metadata": {},
   "outputs": [],
   "source": [
    "abstract.count('films')"
   ]
  },
  {
   "cell_type": "code",
   "execution_count": null,
   "metadata": {},
   "outputs": [],
   "source": [
    "1/27"
   ]
  },
  {
   "cell_type": "code",
   "execution_count": null,
   "metadata": {},
   "outputs": [],
   "source": [
    "dimcli.extract_concepts(\"text of abstract\")"
   ]
  },
  {
   "cell_type": "code",
   "execution_count": null,
   "metadata": {},
   "outputs": [],
   "source": [
    "len(abstract.split())"
   ]
  },
  {
   "cell_type": "code",
   "execution_count": null,
   "metadata": {},
   "outputs": [],
   "source": [
    "abstract = \"\"\"We describe monocrystalline graphitic films, which are a few atoms thick but are nonetheless stable under ambient conditions,\n",
    "metallic, and of remarkably high quality. The films are found to be a two-dimensional semimetal with a tiny overlap between\n",
    "valence and conductance bands, and they exhibit a strong ambipolar electric field effect such that electrons and\n",
    "holes in concentrations up to 10 per square centimeter and with room-temperature mobilities of approximately 10,000 square\n",
    "centimeters per volt-second can be induced by applying gate voltage.\n",
    "\"\"\"\n",
    "res = dsl.query(f\"\"\"extract_concepts(\"{abstract}\", return_scores=true)\"\"\")\n",
    "pd.DataFrame(res['extracted_concepts'])\n",
    "\n"
   ]
  },
  {
   "cell_type": "code",
   "execution_count": 1,
   "metadata": {},
   "outputs": [
    {
     "data": {
      "text/plain": [
       "'/Users/zhuchen/TokyoU/UTokyo PhD/UTokyo_2023_Spring/DLT_companies'"
      ]
     },
     "execution_count": 1,
     "metadata": {},
     "output_type": "execute_result"
    }
   ],
   "source": [
    "import pandas as pd\n",
    "import os\n",
    "from collections import Counter\n",
    "import networkx as nx\n",
    "import itertools\n",
    "os.getcwd()"
   ]
  },
  {
   "cell_type": "code",
   "execution_count": 158,
   "metadata": {},
   "outputs": [
    {
     "data": {
      "text/plain": [
       "Index(['Organization Name', 'Industries', 'Description', 'Founded Date',\n",
       "       'Headquarters Location', 'Headquarters Regions'],\n",
       "      dtype='object')"
      ]
     },
     "execution_count": 158,
     "metadata": {},
     "output_type": "execute_result"
    }
   ],
   "source": [
    "data_APAC"
   ]
  },
  {
   "cell_type": "code",
   "execution_count": 159,
   "metadata": {},
   "outputs": [
    {
     "data": {
      "text/plain": [
       "Index(['Organization Name', 'Organization Name URL', 'Number of Employees',\n",
       "       'Industries', 'Last Funding Type', 'Contact Job Departments',\n",
       "       'IPqwery - Patents Granted', 'Number of Investments', 'IPO Status',\n",
       "       'IPqwery - Total Patents', 'Closed Date', 'Closed Date Precision',\n",
       "       'Headquarters Location', 'Headquarters Regions',\n",
       "       'Diversity Spotlight (US Headquarters Only)', 'Estimated Revenue Range',\n",
       "       'Description', 'Founded Date', 'Founded Date Precision',\n",
       "       'Operating Status', 'Exit Date', 'Exit Date Precision', 'Company Type',\n",
       "       'Website', 'Twitter', 'Facebook', 'LinkedIn', 'Contact Email',\n",
       "       'Phone Number', 'Hub Tags', 'Number of Articles', 'Full Description',\n",
       "       'Actively Hiring', 'Announced Date', 'Announced Date Precision'],\n",
       "      dtype='object')"
      ]
     },
     "execution_count": 159,
     "metadata": {},
     "output_type": "execute_result"
    }
   ],
   "source": [
    "data_US = pd.read_csv('US_DLT.csv')\n",
    "data_EU = pd.read_csv('EU_DLT.csv')\n",
    "data_APAC = pd.read_csv('APAC_DLT.csv')\n",
    "data_APAC.columns\n"
   ]
  },
  {
   "cell_type": "code",
   "execution_count": 166,
   "metadata": {},
   "outputs": [
    {
     "data": {
      "text/plain": [
       "['Blockchain, Cryptocurrency, Financial Services, FinTech, Mobile Payments, Payments']"
      ]
     },
     "execution_count": 166,
     "metadata": {},
     "output_type": "execute_result"
    }
   ],
   "source": [
    "list(data_US[data_US['Organization Name'] == 'MovoCash']['Industries'])"
   ]
  },
  {
   "cell_type": "code",
   "execution_count": 169,
   "metadata": {},
   "outputs": [
    {
     "data": {
      "text/plain": [
       "15"
      ]
     },
     "execution_count": 169,
     "metadata": {},
     "output_type": "execute_result"
    }
   ],
   "source": [
    "x = ['Blockchain', 'Cryptocurrency', 'Financial Services', 'FinTech', 'Mobile Payments', 'Payments']\n",
    "len(list(itertools.combinations(x, 2)))"
   ]
  },
  {
   "cell_type": "code",
   "execution_count": 182,
   "metadata": {},
   "outputs": [
    {
     "name": "stdout",
     "output_type": "stream",
     "text": [
      "The total number of industries: 405."
     ]
    }
   ],
   "source": [
    "data = pd.read_csv('APAC_DLT.csv')\n",
    "data = data[['Organization Name', 'Industries', 'Description', 'Founded Date', 'Headquarters Location', 'Headquarters Regions']]\n",
    "data['Founded Year'] = [int(i[:4]) for i in list(data['Founded Date'])]\n",
    "\n",
    "#2008 2013 2018 2023\n",
    "#focal_year = 2015\n",
    "#data = data[data['Founded Year'] <= focal_year]\n",
    "\n",
    "Industries = list(data['Industries'])\n",
    "Industries = sum([Industry.split(',') for Industry in Industries], [])\n",
    "Industries = [i.strip() for i in Industries]\n",
    "Industries_set = list(set(Industries))\n",
    "Industries_count = Counter(Industries)\n",
    "print('The total number of industries:', len(Industries_set), end='.')"
   ]
  },
  {
   "cell_type": "code",
   "execution_count": 183,
   "metadata": {},
   "outputs": [],
   "source": [
    "Industries = list(data['Industries'])\n",
    "Industries = [Industry.split(',') for Industry in Industries]\n",
    "edges = []\n",
    "for industries in Industries:\n",
    "    industries1 = [i.strip() for i in industries]\n",
    "    sub_edges = list(itertools.combinations(industries1, 2))\n",
    "    edges.extend(sub_edges)\n",
    "\n",
    "edge_set = list(set(edges))\n",
    "edge_count = Counter(edges)"
   ]
  },
  {
   "cell_type": "code",
   "execution_count": 184,
   "metadata": {},
   "outputs": [
    {
     "name": "stdout",
     "output_type": "stream",
     "text": [
      "Nodes: 405 Edges: 0\n",
      ".. cleaning up edges with weight < 30...\n",
      "Nodes: 405 Edges: 85\n",
      ".. removing isolated nodes...\n",
      "Nodes: 40 Edges: 85\n"
     ]
    }
   ],
   "source": [
    "G = nx.Graph() # networkX instance\n",
    "\n",
    "MIN_EDGE_WEIGHT = 30\n",
    "\n",
    "for industry in Industries_set:\n",
    "    G.add_node(industry, frequency=Industries_count[industry])\n",
    "print(\"Nodes:\", len(G.nodes()), \"Edges:\", len(G.edges()))\n",
    "\n",
    "for edge in edge_set:\n",
    "    G.add_edge(edge[0], edge[1], weight = edge_count[edge])\n",
    "    \n",
    "print(f\".. cleaning up edges with weight < {MIN_EDGE_WEIGHT}...\")\n",
    "\n",
    "for a, b, w in list(G.edges(data='weight')):\n",
    "    if w < MIN_EDGE_WEIGHT:\n",
    "        G.remove_edge(a, b)\n",
    "print(\"Nodes:\", len(G.nodes()), \"Edges:\", len(G.edges()))\n",
    "\n",
    "print(f\".. removing isolated nodes...\")\n",
    "\n",
    "G.remove_nodes_from(list(nx.isolates(G)))\n",
    "print(\"Nodes:\", len(G.nodes()), \"Edges:\", len(G.edges()))"
   ]
  },
  {
   "cell_type": "code",
   "execution_count": 185,
   "metadata": {},
   "outputs": [
    {
     "name": "stdout",
     "output_type": "stream",
     "text": [
      "Nodes: 405 Edges: 0\n",
      ".. cleaning up edges with weight < 30...\n",
      "Nodes: 405 Edges: 85\n",
      ".. removing isolated nodes...\n",
      "Nodes: 40 Edges: 85\n"
     ]
    }
   ],
   "source": [
    "from pyvis.network import Network\n",
    "import plotly.express as px\n",
    "\n",
    "viznet = Network(height=\"1000px\", width=\"100%\", bgcolor=\"#222222\", font_color=\"white\", filter_menu=True)\n",
    "#viznet.toggle_hide_edges_on_drag(True)\n",
    "viznet.barnes_hut()\n",
    "#viznet.repulsion(300)\n",
    "#viznet.heading = f\"Concepts co-occurrence for '{KEYWORD}' publications\"\n",
    "\n",
    "\n",
    "# reuse plotly color palette\n",
    "palette = px.colors.diverging.Temps  # 7 colors\n",
    "\n",
    "viznet.from_nx(G)\n",
    "\n",
    "\n",
    "# update visual features\n",
    "\n",
    "for node in viznet.nodes:\n",
    "    freq = G.nodes[node['label']]['frequency']\n",
    "    #score_avg = G.nodes[node['label']]['score_avg']\n",
    "    #score_bucket = G.nodes[node['label']]['score_bucket'] # get from original network\n",
    "\n",
    "    node['size'] = freq * 0.1\n",
    "    #node['color'] = palette[3*score_bucket]  # get color based on score_bucket (1 or 2)\n",
    "    node['borderWidthSelected'] = 5\n",
    "    #node['title'] = f\"<h4>Concept: '{node['label']}'</h4><hr>Frequency: {freq}\",\n",
    "    \n",
    "    node['title'] = f\"Concept: '{node['label']}', Frequency: {freq}\"\n",
    "    # print(node)\n",
    "\n",
    "G = nx.Graph() # networkX instance\n",
    "\n",
    "#MIN_EDGE_WEIGHT = 100\n",
    "\n",
    "for industry in Industries_set:\n",
    "    G.add_node(industry, frequency=Industries_count[industry])\n",
    "print(\"Nodes:\", len(G.nodes()), \"Edges:\", len(G.edges()))\n",
    "\n",
    "for edge in edge_set:\n",
    "    G.add_edge(edge[0], edge[1], weight = edge_count[edge])\n",
    "    \n",
    "print(f\".. cleaning up edges with weight < {MIN_EDGE_WEIGHT}...\")\n",
    "\n",
    "for a, b, w in list(G.edges(data='weight')):\n",
    "    if w < MIN_EDGE_WEIGHT:\n",
    "        G.remove_edge(a, b)\n",
    "print(\"Nodes:\", len(G.nodes()), \"Edges:\", len(G.edges()))\n",
    "\n",
    "print(f\".. removing isolated nodes...\")\n",
    "\n",
    "G.remove_nodes_from(list(nx.isolates(G)))\n",
    "print(\"Nodes:\", len(G.nodes()), \"Edges:\", len(G.edges()))    \n",
    "    \n",
    "\n",
    "for edge in viznet.edges:\n",
    "    # get value from main Network weight\n",
    "    edge['value'] = G.edges[edge['from'], edge['to']]['weight'] * 10\n",
    "    # print(edge)\n",
    "\n",
    "viznet.show(\"concepts_network_APAC.html\")"
   ]
  }
 ],
 "metadata": {
  "kernelspec": {
   "display_name": "Python 3",
   "language": "python",
   "name": "python3"
  },
  "language_info": {
   "codemirror_mode": {
    "name": "ipython",
    "version": 3
   },
   "file_extension": ".py",
   "mimetype": "text/x-python",
   "name": "python",
   "nbconvert_exporter": "python",
   "pygments_lexer": "ipython3",
   "version": "3.7.6"
  }
 },
 "nbformat": 4,
 "nbformat_minor": 4
}
